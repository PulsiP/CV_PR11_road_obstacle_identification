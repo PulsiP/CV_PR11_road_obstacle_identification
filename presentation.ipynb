{
 "cells": [
  {
   "cell_type": "code",
   "execution_count": null,
   "id": "af9ebe81",
   "metadata": {},
   "outputs": [],
   "source": [
    "# Importazioni necessarie\n",
    "import torch\n",
    "import numpy as np\n",
    "import matplotlib.pyplot as plt\n",
    "from pathlib import Path\n",
    "import Dataset\n",
    "import cv2 as cv\n",
    "# Importazioni specifiche del tuo progetto\n",
    "import sys\n",
    "sys.path.append('/home/federico/Desktop/CV_PR11_road_obstacle_identification')  # Aggiungi la directory del progetto\n",
    "\n",
    "# Importa le tue classi/funzioni personalizzate\n",
    "from data import CSDataset\n",
    "from utils import show_tensor  # La funzione che avevi già definito\n",
    "\n",
    "# Se hai bisogno di trasformazioni\n",
    "from torchvision.transforms.v2 import Compose, ToTensor, Resize\n"
   ]
  },
  {
   "cell_type": "code",
   "execution_count": 9,
   "id": "2a9b1094",
   "metadata": {},
   "outputs": [],
   "source": [
    "def plot_histogram(image, bins=256, title=\"Istogramma dei pixel\"):\n",
    "    \"\"\"\n",
    "    Visualizza l'istogramma dei valori dei pixel di un'immagine.\n",
    "    \n",
    "    Args:\n",
    "        image: Immagine come array NumPy o tensore PyTorch\n",
    "        bins: Numero di bin dell'istogramma\n",
    "        title: Titolo del grafico\n",
    "    \"\"\"\n",
    "    if torch.is_tensor(image):\n",
    "        # Conversione da tensore a numpy\n",
    "        image = image.numpy(force=True)\n",
    "    \n",
    "    # Gestisci diverse dimensioni di immagine\n",
    "    if len(image.shape) == 3:  # immagine RGB o multi-canale\n",
    "        # Puoi visualizzare istogrammi per canale\n",
    "        colors = ('r', 'g', 'b')\n",
    "        plt.figure(figsize=(10, 6))\n",
    "        \n",
    "        # Se l'immagine è in formato [C, H, W], trasponi in [H, W, C]\n",
    "        if image.shape[0] == 3 or image.shape[0] == 1:\n",
    "            image = image.transpose((1, 2, 0))\n",
    "            \n",
    "        for i, color in enumerate(colors):\n",
    "            if i < image.shape[2]:  # Solo se abbiamo questo canale\n",
    "                hist = plt.hist(image[:, :, i].ravel(), bins=bins, \n",
    "                               alpha=0.5, label=f'Canale {color}')\n",
    "    else:  # immagine a singolo canale\n",
    "        plt.figure(figsize=(8, 5))\n",
    "        plt.hist(image.ravel(), bins=bins, color='gray')\n",
    "    \n",
    "    plt.title(title)\n",
    "    plt.xlabel('Valore pixel')\n",
    "    plt.ylabel('Frequenza')\n",
    "    plt.legend()\n",
    "    plt.grid(alpha=0.2)\n",
    "    plt.show()"
   ]
  },
  {
   "cell_type": "code",
   "execution_count": 10,
   "id": "17345d7f",
   "metadata": {},
   "outputs": [
    {
     "ename": "AttributeError",
     "evalue": "module 'cv2' has no attribute 'Compose'",
     "output_type": "error",
     "traceback": [
      "\u001b[31m---------------------------------------------------------------------------\u001b[39m",
      "\u001b[31mAttributeError\u001b[39m                            Traceback (most recent call last)",
      "\u001b[36mCell\u001b[39m\u001b[36m \u001b[39m\u001b[32mIn[10]\u001b[39m\u001b[32m, line 4\u001b[39m\n\u001b[32m      1\u001b[39m \u001b[38;5;66;03m# Per un tensore PyTorch (es. un'immagine dal tuo dataset)\u001b[39;00m\n\u001b[32m      2\u001b[39m data_train = CSDataset(\n\u001b[32m      3\u001b[39m         \u001b[33m\"\u001b[39m\u001b[33mDataset/train\u001b[39m\u001b[33m\"\u001b[39m,\n\u001b[32m----> \u001b[39m\u001b[32m4\u001b[39m         transform_x=\u001b[43mv2\u001b[49m\u001b[43m.\u001b[49m\u001b[43mCompose\u001b[49m(\n\u001b[32m      5\u001b[39m             [v2.ToImage(), v2.ToDtype(dtype=torch.float32, scale=\u001b[38;5;28;01mTrue\u001b[39;00m)]\n\u001b[32m      6\u001b[39m         ),\n\u001b[32m      7\u001b[39m         transform_y=v2.Compose([ToMasck(\u001b[32m0\u001b[39m, \u001b[32m20\u001b[39m)])\n\u001b[32m      8\u001b[39m     )\n\u001b[32m      9\u001b[39m x, y, _ = data_train[\u001b[32m0\u001b[39m]\n\u001b[32m     10\u001b[39m plot_histogram(x, bins=\u001b[32m64\u001b[39m, title=\u001b[33m\"\u001b[39m\u001b[33mDistribuzione dei pixel nell\u001b[39m\u001b[33m'\u001b[39m\u001b[33mimmagine originale\u001b[39m\u001b[33m\"\u001b[39m)\n",
      "\u001b[31mAttributeError\u001b[39m: module 'cv2' has no attribute 'Compose'"
     ]
    }
   ],
   "source": [
    "# Per un tensore PyTorch (es. un'immagine dal tuo dataset)\n",
    "data_train = CSDataset(\n",
    "        \"Dataset/train\",\n",
    "        transform_x=v2.Compose(\n",
    "            [v2.ToImage(), v2.ToDtype(dtype=torch.float32, scale=True)]\n",
    "        ),\n",
    "        transform_y=v2.Compose([ToMasck(0, 20)])\n",
    "    )\n",
    "x, y, _ = data_train[0]\n",
    "plot_histogram(x, bins=64, title=\"Distribuzione dei pixel nell'immagine originale\")\n",
    "\n",
    "# Per una maschera di segmentazione\n",
    "plot_histogram(y, bins=21, title=\"Distribuzione delle classi nella maschera\")\n",
    "\n",
    "# Per visualizzare un'immagine e il suo istogramma insieme\n",
    "plt.figure(figsize=(12, 5))\n",
    "plt.subplot(1, 2, 1)\n",
    "show_tensor(x)\n",
    "plt.title(\"Immagine\")\n",
    "plt.subplot(1, 2, 2)\n",
    "plot_histogram(x, bins=64)\n",
    "plt.tight_layout()\n",
    "plt.show()"
   ]
  }
 ],
 "metadata": {
  "kernelspec": {
   "display_name": "Vision",
   "language": "python",
   "name": "python3"
  },
  "language_info": {
   "codemirror_mode": {
    "name": "ipython",
    "version": 3
   },
   "file_extension": ".py",
   "mimetype": "text/x-python",
   "name": "python",
   "nbconvert_exporter": "python",
   "pygments_lexer": "ipython3",
   "version": "3.13.2"
  }
 },
 "nbformat": 4,
 "nbformat_minor": 5
}
